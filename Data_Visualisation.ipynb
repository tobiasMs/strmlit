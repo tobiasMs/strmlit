{
  "nbformat": 4,
  "nbformat_minor": 0,
  "metadata": {
    "colab": {
      "provenance": []
    },
    "kernelspec": {
      "name": "python3",
      "display_name": "Python 3"
    },
    "language_info": {
      "name": "python"
    }
  },
  "cells": [
    {
      "cell_type": "code",
      "source": [
        "pip install streamlit"
      ],
      "metadata": {
        "colab": {
          "base_uri": "https://localhost:8080/"
        },
        "id": "ZbPk5IU_DbgO",
        "outputId": "a061c286-69cb-4137-a188-a072f5e75bc2"
      },
      "execution_count": 198,
      "outputs": [
        {
          "output_type": "stream",
          "name": "stdout",
          "text": [
            "Requirement already satisfied: streamlit in /usr/local/lib/python3.10/dist-packages (1.28.0)\n",
            "Requirement already satisfied: altair<6,>=4.0 in /usr/local/lib/python3.10/dist-packages (from streamlit) (4.2.2)\n",
            "Requirement already satisfied: blinker<2,>=1.0.0 in /usr/lib/python3/dist-packages (from streamlit) (1.4)\n",
            "Requirement already satisfied: cachetools<6,>=4.0 in /usr/local/lib/python3.10/dist-packages (from streamlit) (5.3.2)\n",
            "Requirement already satisfied: click<9,>=7.0 in /usr/local/lib/python3.10/dist-packages (from streamlit) (8.1.7)\n",
            "Requirement already satisfied: importlib-metadata<7,>=1.4 in /usr/local/lib/python3.10/dist-packages (from streamlit) (6.8.0)\n",
            "Requirement already satisfied: numpy<2,>=1.19.3 in /usr/local/lib/python3.10/dist-packages (from streamlit) (1.23.5)\n",
            "Requirement already satisfied: packaging<24,>=16.8 in /usr/local/lib/python3.10/dist-packages (from streamlit) (23.2)\n",
            "Requirement already satisfied: pandas<3,>=1.3.0 in /usr/local/lib/python3.10/dist-packages (from streamlit) (1.5.3)\n",
            "Requirement already satisfied: pillow<11,>=7.1.0 in /usr/local/lib/python3.10/dist-packages (from streamlit) (9.4.0)\n",
            "Requirement already satisfied: protobuf<5,>=3.20 in /usr/local/lib/python3.10/dist-packages (from streamlit) (3.20.3)\n",
            "Requirement already satisfied: pyarrow>=6.0 in /usr/local/lib/python3.10/dist-packages (from streamlit) (9.0.0)\n",
            "Requirement already satisfied: python-dateutil<3,>=2.7.3 in /usr/local/lib/python3.10/dist-packages (from streamlit) (2.8.2)\n",
            "Requirement already satisfied: requests<3,>=2.27 in /usr/local/lib/python3.10/dist-packages (from streamlit) (2.31.0)\n",
            "Requirement already satisfied: rich<14,>=10.14.0 in /usr/local/lib/python3.10/dist-packages (from streamlit) (13.6.0)\n",
            "Requirement already satisfied: tenacity<9,>=8.1.0 in /usr/local/lib/python3.10/dist-packages (from streamlit) (8.2.3)\n",
            "Requirement already satisfied: toml<2,>=0.10.1 in /usr/local/lib/python3.10/dist-packages (from streamlit) (0.10.2)\n",
            "Requirement already satisfied: typing-extensions<5,>=4.3.0 in /usr/local/lib/python3.10/dist-packages (from streamlit) (4.5.0)\n",
            "Requirement already satisfied: tzlocal<6,>=1.1 in /usr/local/lib/python3.10/dist-packages (from streamlit) (5.2)\n",
            "Requirement already satisfied: validators<1,>=0.2 in /usr/local/lib/python3.10/dist-packages (from streamlit) (0.22.0)\n",
            "Requirement already satisfied: gitpython!=3.1.19,<4,>=3.0.7 in /usr/local/lib/python3.10/dist-packages (from streamlit) (3.1.40)\n",
            "Requirement already satisfied: pydeck<1,>=0.8.0b4 in /usr/local/lib/python3.10/dist-packages (from streamlit) (0.8.1b0)\n",
            "Requirement already satisfied: tornado<7,>=6.0.3 in /usr/local/lib/python3.10/dist-packages (from streamlit) (6.3.2)\n",
            "Requirement already satisfied: watchdog>=2.1.5 in /usr/local/lib/python3.10/dist-packages (from streamlit) (3.0.0)\n",
            "Requirement already satisfied: entrypoints in /usr/local/lib/python3.10/dist-packages (from altair<6,>=4.0->streamlit) (0.4)\n",
            "Requirement already satisfied: jinja2 in /usr/local/lib/python3.10/dist-packages (from altair<6,>=4.0->streamlit) (3.1.2)\n",
            "Requirement already satisfied: jsonschema>=3.0 in /usr/local/lib/python3.10/dist-packages (from altair<6,>=4.0->streamlit) (4.19.1)\n",
            "Requirement already satisfied: toolz in /usr/local/lib/python3.10/dist-packages (from altair<6,>=4.0->streamlit) (0.12.0)\n",
            "Requirement already satisfied: gitdb<5,>=4.0.1 in /usr/local/lib/python3.10/dist-packages (from gitpython!=3.1.19,<4,>=3.0.7->streamlit) (4.0.11)\n",
            "Requirement already satisfied: zipp>=0.5 in /usr/local/lib/python3.10/dist-packages (from importlib-metadata<7,>=1.4->streamlit) (3.17.0)\n",
            "Requirement already satisfied: pytz>=2020.1 in /usr/local/lib/python3.10/dist-packages (from pandas<3,>=1.3.0->streamlit) (2023.3.post1)\n",
            "Requirement already satisfied: six>=1.5 in /usr/local/lib/python3.10/dist-packages (from python-dateutil<3,>=2.7.3->streamlit) (1.16.0)\n",
            "Requirement already satisfied: charset-normalizer<4,>=2 in /usr/local/lib/python3.10/dist-packages (from requests<3,>=2.27->streamlit) (3.3.1)\n",
            "Requirement already satisfied: idna<4,>=2.5 in /usr/local/lib/python3.10/dist-packages (from requests<3,>=2.27->streamlit) (3.4)\n",
            "Requirement already satisfied: urllib3<3,>=1.21.1 in /usr/local/lib/python3.10/dist-packages (from requests<3,>=2.27->streamlit) (2.0.7)\n",
            "Requirement already satisfied: certifi>=2017.4.17 in /usr/local/lib/python3.10/dist-packages (from requests<3,>=2.27->streamlit) (2023.7.22)\n",
            "Requirement already satisfied: markdown-it-py>=2.2.0 in /usr/local/lib/python3.10/dist-packages (from rich<14,>=10.14.0->streamlit) (3.0.0)\n",
            "Requirement already satisfied: pygments<3.0.0,>=2.13.0 in /usr/local/lib/python3.10/dist-packages (from rich<14,>=10.14.0->streamlit) (2.16.1)\n",
            "Requirement already satisfied: smmap<6,>=3.0.1 in /usr/local/lib/python3.10/dist-packages (from gitdb<5,>=4.0.1->gitpython!=3.1.19,<4,>=3.0.7->streamlit) (5.0.1)\n",
            "Requirement already satisfied: MarkupSafe>=2.0 in /usr/local/lib/python3.10/dist-packages (from jinja2->altair<6,>=4.0->streamlit) (2.1.3)\n",
            "Requirement already satisfied: attrs>=22.2.0 in /usr/local/lib/python3.10/dist-packages (from jsonschema>=3.0->altair<6,>=4.0->streamlit) (23.1.0)\n",
            "Requirement already satisfied: jsonschema-specifications>=2023.03.6 in /usr/local/lib/python3.10/dist-packages (from jsonschema>=3.0->altair<6,>=4.0->streamlit) (2023.7.1)\n",
            "Requirement already satisfied: referencing>=0.28.4 in /usr/local/lib/python3.10/dist-packages (from jsonschema>=3.0->altair<6,>=4.0->streamlit) (0.30.2)\n",
            "Requirement already satisfied: rpds-py>=0.7.1 in /usr/local/lib/python3.10/dist-packages (from jsonschema>=3.0->altair<6,>=4.0->streamlit) (0.10.6)\n",
            "Requirement already satisfied: mdurl~=0.1 in /usr/local/lib/python3.10/dist-packages (from markdown-it-py>=2.2.0->rich<14,>=10.14.0->streamlit) (0.1.2)\n"
          ]
        }
      ]
    },
    {
      "cell_type": "code",
      "execution_count": 199,
      "metadata": {
        "id": "8djgACi9GyVX"
      },
      "outputs": [],
      "source": [
        "import numpy as np\n",
        "import pandas as pd\n",
        "import matplotlib.pyplot as plt\n",
        "import seaborn as sns\n",
        "import streamlit as st\n",
        "from sklearn.model_selection import train_test_split\n",
        "from sklearn.linear_model import LinearRegression\n",
        "from sklearn.metrics import mean_squared_error"
      ]
    },
    {
      "cell_type": "code",
      "source": [
        "from google.colab import drive\n",
        "drive.mount( '/content/drive')"
      ],
      "metadata": {
        "colab": {
          "base_uri": "https://localhost:8080/"
        },
        "id": "NnMFj6quHBFR",
        "outputId": "ae7d1395-e17c-41ee-c62c-7c2af750cec9"
      },
      "execution_count": 200,
      "outputs": [
        {
          "output_type": "stream",
          "name": "stdout",
          "text": [
            "Drive already mounted at /content/drive; to attempt to forcibly remount, call drive.mount(\"/content/drive\", force_remount=True).\n"
          ]
        }
      ]
    },
    {
      "cell_type": "code",
      "source": [
        "data='/content/drive/MyDrive/Datasheet/E-Commerce Public Dataset/products_dataset.csv'"
      ],
      "metadata": {
        "id": "cJwZu_gwHxwM"
      },
      "execution_count": 201,
      "outputs": []
    },
    {
      "cell_type": "code",
      "source": [
        "data2='/content/drive/MyDrive/Datasheet/E-Commerce Public Dataset/customers_dataset.csv'"
      ],
      "metadata": {
        "id": "bLiO2mOILwSB"
      },
      "execution_count": 202,
      "outputs": []
    },
    {
      "cell_type": "code",
      "source": [
        "data3='/content/drive/MyDrive/Datasheet/E-Commerce Public Dataset/order_items_dataset.csv'"
      ],
      "metadata": {
        "id": "oWU0Ysk6MRGA"
      },
      "execution_count": 203,
      "outputs": []
    },
    {
      "cell_type": "code",
      "source": [
        "data4='/content/drive/MyDrive/Datasheet/E-Commerce Public Dataset/product_category_name_translation.csv'"
      ],
      "metadata": {
        "id": "oJQ43Ol3HDK_"
      },
      "execution_count": 204,
      "outputs": []
    },
    {
      "cell_type": "code",
      "source": [
        "data5='/content/drive/MyDrive/Datasheet/E-Commerce Public Dataset/orders_dataset.csv'"
      ],
      "metadata": {
        "id": "pzWabFciIuH1"
      },
      "execution_count": 205,
      "outputs": []
    },
    {
      "cell_type": "markdown",
      "source": [
        "# Data Preparation"
      ],
      "metadata": {
        "id": "7kLoIo2jGDFN"
      }
    },
    {
      "cell_type": "code",
      "source": [
        "products_df=pd.read_csv(data)"
      ],
      "metadata": {
        "id": "59CdHoiBIDsB"
      },
      "execution_count": 206,
      "outputs": []
    },
    {
      "cell_type": "code",
      "source": [
        "customers_df=pd.read_csv(data2)"
      ],
      "metadata": {
        "id": "UC1kxjewL0Gr"
      },
      "execution_count": 207,
      "outputs": []
    },
    {
      "cell_type": "code",
      "source": [
        "order_item_df=pd.read_csv(data3)"
      ],
      "metadata": {
        "id": "LxI4V8SuMalk"
      },
      "execution_count": 208,
      "outputs": []
    },
    {
      "cell_type": "code",
      "source": [
        "translate_df=pd.read_csv(data4)"
      ],
      "metadata": {
        "id": "nJa701CHHQab"
      },
      "execution_count": 209,
      "outputs": []
    },
    {
      "cell_type": "code",
      "source": [
        "orders_df=pd.read_csv(data5)"
      ],
      "metadata": {
        "id": "QeTaIlTaItJV"
      },
      "execution_count": 210,
      "outputs": []
    },
    {
      "cell_type": "code",
      "source": [
        "products_df.info()"
      ],
      "metadata": {
        "colab": {
          "base_uri": "https://localhost:8080/"
        },
        "id": "_TIU-LqbGXd7",
        "outputId": "2aee1642-b7aa-4dd5-fe83-8a39e33dc00c"
      },
      "execution_count": 211,
      "outputs": [
        {
          "output_type": "stream",
          "name": "stdout",
          "text": [
            "<class 'pandas.core.frame.DataFrame'>\n",
            "RangeIndex: 32951 entries, 0 to 32950\n",
            "Data columns (total 9 columns):\n",
            " #   Column                      Non-Null Count  Dtype  \n",
            "---  ------                      --------------  -----  \n",
            " 0   product_id                  32951 non-null  object \n",
            " 1   product_category_name       32341 non-null  object \n",
            " 2   product_name_lenght         32341 non-null  float64\n",
            " 3   product_description_lenght  32341 non-null  float64\n",
            " 4   product_photos_qty          32341 non-null  float64\n",
            " 5   product_weight_g            32949 non-null  float64\n",
            " 6   product_length_cm           32949 non-null  float64\n",
            " 7   product_height_cm           32949 non-null  float64\n",
            " 8   product_width_cm            32949 non-null  float64\n",
            "dtypes: float64(7), object(2)\n",
            "memory usage: 2.3+ MB\n"
          ]
        }
      ]
    },
    {
      "cell_type": "code",
      "source": [
        "translate_df.info()"
      ],
      "metadata": {
        "colab": {
          "base_uri": "https://localhost:8080/"
        },
        "id": "P94rvpdKGI-G",
        "outputId": "70a14634-6f25-47ec-ea80-d79aec143be4"
      },
      "execution_count": 212,
      "outputs": [
        {
          "output_type": "stream",
          "name": "stdout",
          "text": [
            "<class 'pandas.core.frame.DataFrame'>\n",
            "RangeIndex: 71 entries, 0 to 70\n",
            "Data columns (total 2 columns):\n",
            " #   Column                         Non-Null Count  Dtype \n",
            "---  ------                         --------------  ----- \n",
            " 0   product_category_name          71 non-null     object\n",
            " 1   product_category_name_english  71 non-null     object\n",
            "dtypes: object(2)\n",
            "memory usage: 1.2+ KB\n"
          ]
        }
      ]
    },
    {
      "cell_type": "code",
      "source": [
        "customers_df.info()"
      ],
      "metadata": {
        "colab": {
          "base_uri": "https://localhost:8080/"
        },
        "id": "99ujkrg_I5rs",
        "outputId": "6f507a1c-64be-42c7-cc06-c23401930257"
      },
      "execution_count": 213,
      "outputs": [
        {
          "output_type": "stream",
          "name": "stdout",
          "text": [
            "<class 'pandas.core.frame.DataFrame'>\n",
            "RangeIndex: 99441 entries, 0 to 99440\n",
            "Data columns (total 5 columns):\n",
            " #   Column                    Non-Null Count  Dtype \n",
            "---  ------                    --------------  ----- \n",
            " 0   customer_id               99441 non-null  object\n",
            " 1   customer_unique_id        99441 non-null  object\n",
            " 2   customer_zip_code_prefix  99441 non-null  int64 \n",
            " 3   customer_city             99441 non-null  object\n",
            " 4   customer_state            99441 non-null  object\n",
            "dtypes: int64(1), object(4)\n",
            "memory usage: 3.8+ MB\n"
          ]
        }
      ]
    },
    {
      "cell_type": "code",
      "source": [
        "order_item_df.info()"
      ],
      "metadata": {
        "colab": {
          "base_uri": "https://localhost:8080/"
        },
        "id": "_2ELDzZwIHbF",
        "outputId": "4fcb0ef0-e1b0-47a9-a2a4-f2f0843e9481"
      },
      "execution_count": 214,
      "outputs": [
        {
          "output_type": "stream",
          "name": "stdout",
          "text": [
            "<class 'pandas.core.frame.DataFrame'>\n",
            "RangeIndex: 112650 entries, 0 to 112649\n",
            "Data columns (total 7 columns):\n",
            " #   Column               Non-Null Count   Dtype  \n",
            "---  ------               --------------   -----  \n",
            " 0   order_id             112650 non-null  object \n",
            " 1   order_item_id        112650 non-null  int64  \n",
            " 2   product_id           112650 non-null  object \n",
            " 3   seller_id            112650 non-null  object \n",
            " 4   shipping_limit_date  112650 non-null  object \n",
            " 5   price                112650 non-null  float64\n",
            " 6   freight_value        112650 non-null  float64\n",
            "dtypes: float64(2), int64(1), object(4)\n",
            "memory usage: 6.0+ MB\n"
          ]
        }
      ]
    },
    {
      "cell_type": "code",
      "source": [
        "orders_df.info()"
      ],
      "metadata": {
        "colab": {
          "base_uri": "https://localhost:8080/"
        },
        "id": "IlbFB83EGfMJ",
        "outputId": "c1fc7686-38bc-494d-d7c2-fffb7b55bd21"
      },
      "execution_count": 215,
      "outputs": [
        {
          "output_type": "stream",
          "name": "stdout",
          "text": [
            "<class 'pandas.core.frame.DataFrame'>\n",
            "RangeIndex: 99441 entries, 0 to 99440\n",
            "Data columns (total 8 columns):\n",
            " #   Column                         Non-Null Count  Dtype \n",
            "---  ------                         --------------  ----- \n",
            " 0   order_id                       99441 non-null  object\n",
            " 1   customer_id                    99441 non-null  object\n",
            " 2   order_status                   99441 non-null  object\n",
            " 3   order_purchase_timestamp       99441 non-null  object\n",
            " 4   order_approved_at              99281 non-null  object\n",
            " 5   order_delivered_carrier_date   97658 non-null  object\n",
            " 6   order_delivered_customer_date  96476 non-null  object\n",
            " 7   order_estimated_delivery_date  99441 non-null  object\n",
            "dtypes: object(8)\n",
            "memory usage: 6.1+ MB\n"
          ]
        }
      ]
    },
    {
      "cell_type": "markdown",
      "source": [
        "karena informasi dari tiap file berbeda, maka perlu dilakukan grouping berdasarkan id tiap order maupun customer. Dalam data ini, saya berpatokan pada order_items.csv untuk pembelian"
      ],
      "metadata": {
        "id": "pU1tEhOLG9fi"
      }
    },
    {
      "cell_type": "markdown",
      "source": [
        "##proses penggabungan/group by customer_id pada dataset customers dan orders"
      ],
      "metadata": {
        "id": "bi3gNUYyHeR_"
      }
    },
    {
      "cell_type": "markdown",
      "source": [
        "pada proses ini, kemudian dibuat dataframe baru bernama join_df yang berisikan order_id, customer_city, customer_state, dan order_status"
      ],
      "metadata": {
        "id": "XIQeafdWHtyb"
      }
    },
    {
      "cell_type": "code",
      "source": [
        "join_df=customers_df.set_index('customer_id').join(orders_df.set_index('customer_id'), how='outer')\n",
        "join_df=join_df[['order_id', 'customer_city', 'customer_state', 'order_status']]"
      ],
      "metadata": {
        "id": "tAeg6g8LQd53"
      },
      "execution_count": 216,
      "outputs": []
    },
    {
      "cell_type": "code",
      "source": [
        "join_df.info()"
      ],
      "metadata": {
        "colab": {
          "base_uri": "https://localhost:8080/"
        },
        "id": "nioBVGQOSrdU",
        "outputId": "f494f987-d5a8-4d2d-e304-ddaa2e6dce83"
      },
      "execution_count": 217,
      "outputs": [
        {
          "output_type": "stream",
          "name": "stdout",
          "text": [
            "<class 'pandas.core.frame.DataFrame'>\n",
            "Index: 99441 entries, 00012a2ce6f8dcda20d059ce98491703 to ffffe8b65bbe3087b653a978c870db99\n",
            "Data columns (total 4 columns):\n",
            " #   Column          Non-Null Count  Dtype \n",
            "---  ------          --------------  ----- \n",
            " 0   order_id        99441 non-null  object\n",
            " 1   customer_city   99441 non-null  object\n",
            " 2   customer_state  99441 non-null  object\n",
            " 3   order_status    99441 non-null  object\n",
            "dtypes: object(4)\n",
            "memory usage: 3.8+ MB\n"
          ]
        }
      ]
    },
    {
      "cell_type": "markdown",
      "source": [
        "##proses penggabungan/group by order_id pada dataframe join_df dengan dataframe order_item_df"
      ],
      "metadata": {
        "id": "tRY-E2vTHbv9"
      }
    },
    {
      "cell_type": "markdown",
      "source": [
        "pada proses ini, kemudian dibuat dataframe baru bernama join yang berisikan product_id, customer_city, customer_state, price, dan order_status"
      ],
      "metadata": {
        "id": "51qRG8BnIRtD"
      }
    },
    {
      "cell_type": "code",
      "source": [
        "join2_df=join_df.set_index('order_id').join(order_item_df.set_index('order_id'), how='right')\n",
        "join=join2_df[['product_id','customer_city','customer_state','price', 'order_status']]"
      ],
      "metadata": {
        "id": "z710RevKW40z"
      },
      "execution_count": 218,
      "outputs": []
    },
    {
      "cell_type": "code",
      "source": [
        "join2_df.info()"
      ],
      "metadata": {
        "colab": {
          "base_uri": "https://localhost:8080/"
        },
        "id": "n4JqKl4Le1o_",
        "outputId": "8a31792d-6984-4d5c-c5ad-6fc0098507d4"
      },
      "execution_count": 219,
      "outputs": [
        {
          "output_type": "stream",
          "name": "stdout",
          "text": [
            "<class 'pandas.core.frame.DataFrame'>\n",
            "Index: 112650 entries, 00010242fe8c5a6d1ba2dd792cb16214 to fffe41c64501cc87c801fd61db3f6244\n",
            "Data columns (total 9 columns):\n",
            " #   Column               Non-Null Count   Dtype  \n",
            "---  ------               --------------   -----  \n",
            " 0   customer_city        112650 non-null  object \n",
            " 1   customer_state       112650 non-null  object \n",
            " 2   order_status         112650 non-null  object \n",
            " 3   order_item_id        112650 non-null  int64  \n",
            " 4   product_id           112650 non-null  object \n",
            " 5   seller_id            112650 non-null  object \n",
            " 6   shipping_limit_date  112650 non-null  object \n",
            " 7   price                112650 non-null  float64\n",
            " 8   freight_value        112650 non-null  float64\n",
            "dtypes: float64(2), int64(1), object(6)\n",
            "memory usage: 8.6+ MB\n"
          ]
        }
      ]
    },
    {
      "cell_type": "code",
      "source": [
        "join.head(-5)"
      ],
      "metadata": {
        "colab": {
          "base_uri": "https://localhost:8080/",
          "height": 455
        },
        "id": "Ov8JslgkY7ZZ",
        "outputId": "995ec6e3-3ee7-4af5-b63e-2ecdb56c7c6f"
      },
      "execution_count": 220,
      "outputs": [
        {
          "output_type": "execute_result",
          "data": {
            "text/plain": [
              "                                                        product_id  \\\n",
              "order_id                                                             \n",
              "00010242fe8c5a6d1ba2dd792cb16214  4244733e06e7ecb4970a6e2683c13e61   \n",
              "00018f77f2f0320c557190d7a144bdd3  e5f2d52b802189ee658865ca93d83a8f   \n",
              "000229ec398224ef6ca0657da4fc703e  c777355d18b72b67abbeef9df44fd0fd   \n",
              "00024acbcdf0a6daa1e931b038114c75  7634da152a4610f1595efa32f14722fc   \n",
              "00042b26cf59d7ce69dfabb4e55b4fd9  ac6c3623068f30de03045865e4e10089   \n",
              "...                                                            ...   \n",
              "fffb9224b6fc7c43ebb0904318b10b5f  43423cdffde7fda63d0414ed38c11a73   \n",
              "fffb9224b6fc7c43ebb0904318b10b5f  43423cdffde7fda63d0414ed38c11a73   \n",
              "fffb9224b6fc7c43ebb0904318b10b5f  43423cdffde7fda63d0414ed38c11a73   \n",
              "fffb9224b6fc7c43ebb0904318b10b5f  43423cdffde7fda63d0414ed38c11a73   \n",
              "fffbee3b5462987e66fb49b1c5411df2  6f0169f259bb0ff432bfff7d829b9946   \n",
              "\n",
              "                                          customer_city customer_state  \\\n",
              "order_id                                                                 \n",
              "00010242fe8c5a6d1ba2dd792cb16214  campos dos goytacazes             RJ   \n",
              "00018f77f2f0320c557190d7a144bdd3        santa fe do sul             SP   \n",
              "000229ec398224ef6ca0657da4fc703e          para de minas             MG   \n",
              "00024acbcdf0a6daa1e931b038114c75                atibaia             SP   \n",
              "00042b26cf59d7ce69dfabb4e55b4fd9        varzea paulista             SP   \n",
              "...                                                 ...            ...   \n",
              "fffb9224b6fc7c43ebb0904318b10b5f          serra talhada             PE   \n",
              "fffb9224b6fc7c43ebb0904318b10b5f          serra talhada             PE   \n",
              "fffb9224b6fc7c43ebb0904318b10b5f          serra talhada             PE   \n",
              "fffb9224b6fc7c43ebb0904318b10b5f          serra talhada             PE   \n",
              "fffbee3b5462987e66fb49b1c5411df2          montes claros             MG   \n",
              "\n",
              "                                   price order_status  \n",
              "order_id                                               \n",
              "00010242fe8c5a6d1ba2dd792cb16214   58.90    delivered  \n",
              "00018f77f2f0320c557190d7a144bdd3  239.90    delivered  \n",
              "000229ec398224ef6ca0657da4fc703e  199.00    delivered  \n",
              "00024acbcdf0a6daa1e931b038114c75   12.99    delivered  \n",
              "00042b26cf59d7ce69dfabb4e55b4fd9  199.90    delivered  \n",
              "...                                  ...          ...  \n",
              "fffb9224b6fc7c43ebb0904318b10b5f   55.00    delivered  \n",
              "fffb9224b6fc7c43ebb0904318b10b5f   55.00    delivered  \n",
              "fffb9224b6fc7c43ebb0904318b10b5f   55.00    delivered  \n",
              "fffb9224b6fc7c43ebb0904318b10b5f   55.00    delivered  \n",
              "fffbee3b5462987e66fb49b1c5411df2  119.85    delivered  \n",
              "\n",
              "[112645 rows x 5 columns]"
            ],
            "text/html": [
              "\n",
              "  <div id=\"df-38b87a9c-7294-441e-bff4-aab038179bdc\" class=\"colab-df-container\">\n",
              "    <div>\n",
              "<style scoped>\n",
              "    .dataframe tbody tr th:only-of-type {\n",
              "        vertical-align: middle;\n",
              "    }\n",
              "\n",
              "    .dataframe tbody tr th {\n",
              "        vertical-align: top;\n",
              "    }\n",
              "\n",
              "    .dataframe thead th {\n",
              "        text-align: right;\n",
              "    }\n",
              "</style>\n",
              "<table border=\"1\" class=\"dataframe\">\n",
              "  <thead>\n",
              "    <tr style=\"text-align: right;\">\n",
              "      <th></th>\n",
              "      <th>product_id</th>\n",
              "      <th>customer_city</th>\n",
              "      <th>customer_state</th>\n",
              "      <th>price</th>\n",
              "      <th>order_status</th>\n",
              "    </tr>\n",
              "    <tr>\n",
              "      <th>order_id</th>\n",
              "      <th></th>\n",
              "      <th></th>\n",
              "      <th></th>\n",
              "      <th></th>\n",
              "      <th></th>\n",
              "    </tr>\n",
              "  </thead>\n",
              "  <tbody>\n",
              "    <tr>\n",
              "      <th>00010242fe8c5a6d1ba2dd792cb16214</th>\n",
              "      <td>4244733e06e7ecb4970a6e2683c13e61</td>\n",
              "      <td>campos dos goytacazes</td>\n",
              "      <td>RJ</td>\n",
              "      <td>58.90</td>\n",
              "      <td>delivered</td>\n",
              "    </tr>\n",
              "    <tr>\n",
              "      <th>00018f77f2f0320c557190d7a144bdd3</th>\n",
              "      <td>e5f2d52b802189ee658865ca93d83a8f</td>\n",
              "      <td>santa fe do sul</td>\n",
              "      <td>SP</td>\n",
              "      <td>239.90</td>\n",
              "      <td>delivered</td>\n",
              "    </tr>\n",
              "    <tr>\n",
              "      <th>000229ec398224ef6ca0657da4fc703e</th>\n",
              "      <td>c777355d18b72b67abbeef9df44fd0fd</td>\n",
              "      <td>para de minas</td>\n",
              "      <td>MG</td>\n",
              "      <td>199.00</td>\n",
              "      <td>delivered</td>\n",
              "    </tr>\n",
              "    <tr>\n",
              "      <th>00024acbcdf0a6daa1e931b038114c75</th>\n",
              "      <td>7634da152a4610f1595efa32f14722fc</td>\n",
              "      <td>atibaia</td>\n",
              "      <td>SP</td>\n",
              "      <td>12.99</td>\n",
              "      <td>delivered</td>\n",
              "    </tr>\n",
              "    <tr>\n",
              "      <th>00042b26cf59d7ce69dfabb4e55b4fd9</th>\n",
              "      <td>ac6c3623068f30de03045865e4e10089</td>\n",
              "      <td>varzea paulista</td>\n",
              "      <td>SP</td>\n",
              "      <td>199.90</td>\n",
              "      <td>delivered</td>\n",
              "    </tr>\n",
              "    <tr>\n",
              "      <th>...</th>\n",
              "      <td>...</td>\n",
              "      <td>...</td>\n",
              "      <td>...</td>\n",
              "      <td>...</td>\n",
              "      <td>...</td>\n",
              "    </tr>\n",
              "    <tr>\n",
              "      <th>fffb9224b6fc7c43ebb0904318b10b5f</th>\n",
              "      <td>43423cdffde7fda63d0414ed38c11a73</td>\n",
              "      <td>serra talhada</td>\n",
              "      <td>PE</td>\n",
              "      <td>55.00</td>\n",
              "      <td>delivered</td>\n",
              "    </tr>\n",
              "    <tr>\n",
              "      <th>fffb9224b6fc7c43ebb0904318b10b5f</th>\n",
              "      <td>43423cdffde7fda63d0414ed38c11a73</td>\n",
              "      <td>serra talhada</td>\n",
              "      <td>PE</td>\n",
              "      <td>55.00</td>\n",
              "      <td>delivered</td>\n",
              "    </tr>\n",
              "    <tr>\n",
              "      <th>fffb9224b6fc7c43ebb0904318b10b5f</th>\n",
              "      <td>43423cdffde7fda63d0414ed38c11a73</td>\n",
              "      <td>serra talhada</td>\n",
              "      <td>PE</td>\n",
              "      <td>55.00</td>\n",
              "      <td>delivered</td>\n",
              "    </tr>\n",
              "    <tr>\n",
              "      <th>fffb9224b6fc7c43ebb0904318b10b5f</th>\n",
              "      <td>43423cdffde7fda63d0414ed38c11a73</td>\n",
              "      <td>serra talhada</td>\n",
              "      <td>PE</td>\n",
              "      <td>55.00</td>\n",
              "      <td>delivered</td>\n",
              "    </tr>\n",
              "    <tr>\n",
              "      <th>fffbee3b5462987e66fb49b1c5411df2</th>\n",
              "      <td>6f0169f259bb0ff432bfff7d829b9946</td>\n",
              "      <td>montes claros</td>\n",
              "      <td>MG</td>\n",
              "      <td>119.85</td>\n",
              "      <td>delivered</td>\n",
              "    </tr>\n",
              "  </tbody>\n",
              "</table>\n",
              "<p>112645 rows × 5 columns</p>\n",
              "</div>\n",
              "    <div class=\"colab-df-buttons\">\n",
              "\n",
              "  <div class=\"colab-df-container\">\n",
              "    <button class=\"colab-df-convert\" onclick=\"convertToInteractive('df-38b87a9c-7294-441e-bff4-aab038179bdc')\"\n",
              "            title=\"Convert this dataframe to an interactive table.\"\n",
              "            style=\"display:none;\">\n",
              "\n",
              "  <svg xmlns=\"http://www.w3.org/2000/svg\" height=\"24px\" viewBox=\"0 -960 960 960\">\n",
              "    <path d=\"M120-120v-720h720v720H120Zm60-500h600v-160H180v160Zm220 220h160v-160H400v160Zm0 220h160v-160H400v160ZM180-400h160v-160H180v160Zm440 0h160v-160H620v160ZM180-180h160v-160H180v160Zm440 0h160v-160H620v160Z\"/>\n",
              "  </svg>\n",
              "    </button>\n",
              "\n",
              "  <style>\n",
              "    .colab-df-container {\n",
              "      display:flex;\n",
              "      gap: 12px;\n",
              "    }\n",
              "\n",
              "    .colab-df-convert {\n",
              "      background-color: #E8F0FE;\n",
              "      border: none;\n",
              "      border-radius: 50%;\n",
              "      cursor: pointer;\n",
              "      display: none;\n",
              "      fill: #1967D2;\n",
              "      height: 32px;\n",
              "      padding: 0 0 0 0;\n",
              "      width: 32px;\n",
              "    }\n",
              "\n",
              "    .colab-df-convert:hover {\n",
              "      background-color: #E2EBFA;\n",
              "      box-shadow: 0px 1px 2px rgba(60, 64, 67, 0.3), 0px 1px 3px 1px rgba(60, 64, 67, 0.15);\n",
              "      fill: #174EA6;\n",
              "    }\n",
              "\n",
              "    .colab-df-buttons div {\n",
              "      margin-bottom: 4px;\n",
              "    }\n",
              "\n",
              "    [theme=dark] .colab-df-convert {\n",
              "      background-color: #3B4455;\n",
              "      fill: #D2E3FC;\n",
              "    }\n",
              "\n",
              "    [theme=dark] .colab-df-convert:hover {\n",
              "      background-color: #434B5C;\n",
              "      box-shadow: 0px 1px 3px 1px rgba(0, 0, 0, 0.15);\n",
              "      filter: drop-shadow(0px 1px 2px rgba(0, 0, 0, 0.3));\n",
              "      fill: #FFFFFF;\n",
              "    }\n",
              "  </style>\n",
              "\n",
              "    <script>\n",
              "      const buttonEl =\n",
              "        document.querySelector('#df-38b87a9c-7294-441e-bff4-aab038179bdc button.colab-df-convert');\n",
              "      buttonEl.style.display =\n",
              "        google.colab.kernel.accessAllowed ? 'block' : 'none';\n",
              "\n",
              "      async function convertToInteractive(key) {\n",
              "        const element = document.querySelector('#df-38b87a9c-7294-441e-bff4-aab038179bdc');\n",
              "        const dataTable =\n",
              "          await google.colab.kernel.invokeFunction('convertToInteractive',\n",
              "                                                    [key], {});\n",
              "        if (!dataTable) return;\n",
              "\n",
              "        const docLinkHtml = 'Like what you see? Visit the ' +\n",
              "          '<a target=\"_blank\" href=https://colab.research.google.com/notebooks/data_table.ipynb>data table notebook</a>'\n",
              "          + ' to learn more about interactive tables.';\n",
              "        element.innerHTML = '';\n",
              "        dataTable['output_type'] = 'display_data';\n",
              "        await google.colab.output.renderOutput(dataTable, element);\n",
              "        const docLink = document.createElement('div');\n",
              "        docLink.innerHTML = docLinkHtml;\n",
              "        element.appendChild(docLink);\n",
              "      }\n",
              "    </script>\n",
              "  </div>\n",
              "\n",
              "\n",
              "<div id=\"df-33634a2c-091a-4f1d-b6ea-bbbaa5e9b671\">\n",
              "  <button class=\"colab-df-quickchart\" onclick=\"quickchart('df-33634a2c-091a-4f1d-b6ea-bbbaa5e9b671')\"\n",
              "            title=\"Suggest charts.\"\n",
              "            style=\"display:none;\">\n",
              "\n",
              "<svg xmlns=\"http://www.w3.org/2000/svg\" height=\"24px\"viewBox=\"0 0 24 24\"\n",
              "     width=\"24px\">\n",
              "    <g>\n",
              "        <path d=\"M19 3H5c-1.1 0-2 .9-2 2v14c0 1.1.9 2 2 2h14c1.1 0 2-.9 2-2V5c0-1.1-.9-2-2-2zM9 17H7v-7h2v7zm4 0h-2V7h2v10zm4 0h-2v-4h2v4z\"/>\n",
              "    </g>\n",
              "</svg>\n",
              "  </button>\n",
              "\n",
              "<style>\n",
              "  .colab-df-quickchart {\n",
              "      --bg-color: #E8F0FE;\n",
              "      --fill-color: #1967D2;\n",
              "      --hover-bg-color: #E2EBFA;\n",
              "      --hover-fill-color: #174EA6;\n",
              "      --disabled-fill-color: #AAA;\n",
              "      --disabled-bg-color: #DDD;\n",
              "  }\n",
              "\n",
              "  [theme=dark] .colab-df-quickchart {\n",
              "      --bg-color: #3B4455;\n",
              "      --fill-color: #D2E3FC;\n",
              "      --hover-bg-color: #434B5C;\n",
              "      --hover-fill-color: #FFFFFF;\n",
              "      --disabled-bg-color: #3B4455;\n",
              "      --disabled-fill-color: #666;\n",
              "  }\n",
              "\n",
              "  .colab-df-quickchart {\n",
              "    background-color: var(--bg-color);\n",
              "    border: none;\n",
              "    border-radius: 50%;\n",
              "    cursor: pointer;\n",
              "    display: none;\n",
              "    fill: var(--fill-color);\n",
              "    height: 32px;\n",
              "    padding: 0;\n",
              "    width: 32px;\n",
              "  }\n",
              "\n",
              "  .colab-df-quickchart:hover {\n",
              "    background-color: var(--hover-bg-color);\n",
              "    box-shadow: 0 1px 2px rgba(60, 64, 67, 0.3), 0 1px 3px 1px rgba(60, 64, 67, 0.15);\n",
              "    fill: var(--button-hover-fill-color);\n",
              "  }\n",
              "\n",
              "  .colab-df-quickchart-complete:disabled,\n",
              "  .colab-df-quickchart-complete:disabled:hover {\n",
              "    background-color: var(--disabled-bg-color);\n",
              "    fill: var(--disabled-fill-color);\n",
              "    box-shadow: none;\n",
              "  }\n",
              "\n",
              "  .colab-df-spinner {\n",
              "    border: 2px solid var(--fill-color);\n",
              "    border-color: transparent;\n",
              "    border-bottom-color: var(--fill-color);\n",
              "    animation:\n",
              "      spin 1s steps(1) infinite;\n",
              "  }\n",
              "\n",
              "  @keyframes spin {\n",
              "    0% {\n",
              "      border-color: transparent;\n",
              "      border-bottom-color: var(--fill-color);\n",
              "      border-left-color: var(--fill-color);\n",
              "    }\n",
              "    20% {\n",
              "      border-color: transparent;\n",
              "      border-left-color: var(--fill-color);\n",
              "      border-top-color: var(--fill-color);\n",
              "    }\n",
              "    30% {\n",
              "      border-color: transparent;\n",
              "      border-left-color: var(--fill-color);\n",
              "      border-top-color: var(--fill-color);\n",
              "      border-right-color: var(--fill-color);\n",
              "    }\n",
              "    40% {\n",
              "      border-color: transparent;\n",
              "      border-right-color: var(--fill-color);\n",
              "      border-top-color: var(--fill-color);\n",
              "    }\n",
              "    60% {\n",
              "      border-color: transparent;\n",
              "      border-right-color: var(--fill-color);\n",
              "    }\n",
              "    80% {\n",
              "      border-color: transparent;\n",
              "      border-right-color: var(--fill-color);\n",
              "      border-bottom-color: var(--fill-color);\n",
              "    }\n",
              "    90% {\n",
              "      border-color: transparent;\n",
              "      border-bottom-color: var(--fill-color);\n",
              "    }\n",
              "  }\n",
              "</style>\n",
              "\n",
              "  <script>\n",
              "    async function quickchart(key) {\n",
              "      const quickchartButtonEl =\n",
              "        document.querySelector('#' + key + ' button');\n",
              "      quickchartButtonEl.disabled = true;  // To prevent multiple clicks.\n",
              "      quickchartButtonEl.classList.add('colab-df-spinner');\n",
              "      try {\n",
              "        const charts = await google.colab.kernel.invokeFunction(\n",
              "            'suggestCharts', [key], {});\n",
              "      } catch (error) {\n",
              "        console.error('Error during call to suggestCharts:', error);\n",
              "      }\n",
              "      quickchartButtonEl.classList.remove('colab-df-spinner');\n",
              "      quickchartButtonEl.classList.add('colab-df-quickchart-complete');\n",
              "    }\n",
              "    (() => {\n",
              "      let quickchartButtonEl =\n",
              "        document.querySelector('#df-33634a2c-091a-4f1d-b6ea-bbbaa5e9b671 button');\n",
              "      quickchartButtonEl.style.display =\n",
              "        google.colab.kernel.accessAllowed ? 'block' : 'none';\n",
              "    })();\n",
              "  </script>\n",
              "</div>\n",
              "    </div>\n",
              "  </div>\n"
            ]
          },
          "metadata": {},
          "execution_count": 220
        }
      ]
    },
    {
      "cell_type": "markdown",
      "source": [
        "##proses penggabungan/group by product_id pada dataframe join dengan dataframe product_df"
      ],
      "metadata": {
        "id": "C3KaGh60IkE1"
      }
    },
    {
      "cell_type": "markdown",
      "source": [
        "pada proses ini, kemudian dibuat dataframe baru bernama join3_df yang berisikan customer_city, customer_state, price, order_status, dan product_category_name"
      ],
      "metadata": {
        "id": "x-mu2PVGJCBJ"
      }
    },
    {
      "cell_type": "code",
      "source": [
        "join2=join.set_index('product_id').join(products_df.set_index('product_id'),how='right')\n",
        "join3_df=join2[['customer_city', 'customer_state', 'price', 'order_status', 'product_category_name']]"
      ],
      "metadata": {
        "id": "SOzUWwQJZggp"
      },
      "execution_count": 221,
      "outputs": []
    },
    {
      "cell_type": "code",
      "source": [
        "join3_df.info()"
      ],
      "metadata": {
        "colab": {
          "base_uri": "https://localhost:8080/"
        },
        "id": "iIJJFJR_aVyd",
        "outputId": "75334d8a-08a6-4ba0-f27c-b50fa7590ec0"
      },
      "execution_count": 222,
      "outputs": [
        {
          "output_type": "stream",
          "name": "stdout",
          "text": [
            "<class 'pandas.core.frame.DataFrame'>\n",
            "Index: 112650 entries, 00066f42aeeb9f3007548bb9d3f33c38 to fffe9eeff12fcbd74a2f2b007dde0c58\n",
            "Data columns (total 5 columns):\n",
            " #   Column                 Non-Null Count   Dtype  \n",
            "---  ------                 --------------   -----  \n",
            " 0   customer_city          112650 non-null  object \n",
            " 1   customer_state         112650 non-null  object \n",
            " 2   price                  112650 non-null  float64\n",
            " 3   order_status           112650 non-null  object \n",
            " 4   product_category_name  111047 non-null  object \n",
            "dtypes: float64(1), object(4)\n",
            "memory usage: 5.2+ MB\n"
          ]
        }
      ]
    },
    {
      "cell_type": "markdown",
      "source": [
        "terlihat bahwa product category name memiliki missing value sehingga perlu dilakukan data manipulation supaya jumlah data sama"
      ],
      "metadata": {
        "id": "VKSarP3dhOQk"
      }
    },
    {
      "cell_type": "code",
      "source": [
        "join3_df.product_category_name.fillna('NA',inplace=True)"
      ],
      "metadata": {
        "colab": {
          "base_uri": "https://localhost:8080/"
        },
        "id": "nqvh929fbHwn",
        "outputId": "ffccdd92-3e3e-4fed-b58c-0d1ef9027f56"
      },
      "execution_count": 223,
      "outputs": [
        {
          "output_type": "stream",
          "name": "stderr",
          "text": [
            "<ipython-input-223-dc849a8c5b57>:1: SettingWithCopyWarning: \n",
            "A value is trying to be set on a copy of a slice from a DataFrame\n",
            "\n",
            "See the caveats in the documentation: https://pandas.pydata.org/pandas-docs/stable/user_guide/indexing.html#returning-a-view-versus-a-copy\n",
            "  join3_df.product_category_name.fillna('NA',inplace=True)\n"
          ]
        }
      ]
    },
    {
      "cell_type": "code",
      "source": [
        "join3_df.info()"
      ],
      "metadata": {
        "colab": {
          "base_uri": "https://localhost:8080/"
        },
        "id": "3AsT_v04h_ru",
        "outputId": "e465664f-c18a-46b0-f061-fc213540d55e"
      },
      "execution_count": 224,
      "outputs": [
        {
          "output_type": "stream",
          "name": "stdout",
          "text": [
            "<class 'pandas.core.frame.DataFrame'>\n",
            "Index: 112650 entries, 00066f42aeeb9f3007548bb9d3f33c38 to fffe9eeff12fcbd74a2f2b007dde0c58\n",
            "Data columns (total 5 columns):\n",
            " #   Column                 Non-Null Count   Dtype  \n",
            "---  ------                 --------------   -----  \n",
            " 0   customer_city          112650 non-null  object \n",
            " 1   customer_state         112650 non-null  object \n",
            " 2   price                  112650 non-null  float64\n",
            " 3   order_status           112650 non-null  object \n",
            " 4   product_category_name  112650 non-null  object \n",
            "dtypes: float64(1), object(4)\n",
            "memory usage: 5.2+ MB\n"
          ]
        }
      ]
    },
    {
      "cell_type": "markdown",
      "source": [
        "Jumlah data sudah sama, yang berarti proses data manipulation telah berhasil"
      ],
      "metadata": {
        "id": "qS2g80QfJfOR"
      }
    },
    {
      "cell_type": "markdown",
      "source": [
        "##proses penggabungan/group by product_category_name pada dataframe join3_df dengan dataframe translate_df"
      ],
      "metadata": {
        "id": "0PP02G7OJl8S"
      }
    },
    {
      "cell_type": "markdown",
      "source": [
        "pada proses ini, kemudian dibuat dataframe baru bernama final_df yang berisikan customer_city, customer_state, price, order_status, dan product_category_name_english"
      ],
      "metadata": {
        "id": "SZtTX0kyJ0PQ"
      }
    },
    {
      "cell_type": "markdown",
      "source": [
        "final_df merupakan dataframe yang diolah"
      ],
      "metadata": {
        "id": "jCo-41pDKE-8"
      }
    },
    {
      "cell_type": "code",
      "source": [
        "final_df=join3_df.set_index('product_category_name').join(translate_df.set_index('product_category_name'), how='left')"
      ],
      "metadata": {
        "id": "KBjz7N-IbHsz"
      },
      "execution_count": 225,
      "outputs": []
    },
    {
      "cell_type": "code",
      "source": [
        "final_df.info()"
      ],
      "metadata": {
        "colab": {
          "base_uri": "https://localhost:8080/"
        },
        "id": "nSVPzo-fbHoO",
        "outputId": "454117a2-84fd-4c26-a27c-a8c09f9d4983"
      },
      "execution_count": 226,
      "outputs": [
        {
          "output_type": "stream",
          "name": "stdout",
          "text": [
            "<class 'pandas.core.frame.DataFrame'>\n",
            "Index: 112650 entries, NA to utilidades_domesticas\n",
            "Data columns (total 5 columns):\n",
            " #   Column                         Non-Null Count   Dtype  \n",
            "---  ------                         --------------   -----  \n",
            " 0   customer_city                  112650 non-null  object \n",
            " 1   customer_state                 112650 non-null  object \n",
            " 2   price                          112650 non-null  float64\n",
            " 3   order_status                   112650 non-null  object \n",
            " 4   product_category_name_english  111023 non-null  object \n",
            "dtypes: float64(1), object(4)\n",
            "memory usage: 5.2+ MB\n"
          ]
        }
      ]
    },
    {
      "cell_type": "markdown",
      "source": [
        "Dari final tabel yang akan digunakan, category name in english terdapat missing value, sehingga dilakukan data manipulation"
      ],
      "metadata": {
        "id": "s1mHvddki_2o"
      }
    },
    {
      "cell_type": "code",
      "source": [
        "final_df.product_category_name_english.fillna('NA',inplace=True)"
      ],
      "metadata": {
        "id": "KLh0mY0Ti_cJ"
      },
      "execution_count": 227,
      "outputs": []
    },
    {
      "cell_type": "code",
      "source": [
        "final_df.info()"
      ],
      "metadata": {
        "colab": {
          "base_uri": "https://localhost:8080/"
        },
        "id": "SFwSyca3dydX",
        "outputId": "b6678f72-d07f-4c09-a90c-91612f825e47"
      },
      "execution_count": 228,
      "outputs": [
        {
          "output_type": "stream",
          "name": "stdout",
          "text": [
            "<class 'pandas.core.frame.DataFrame'>\n",
            "Index: 112650 entries, NA to utilidades_domesticas\n",
            "Data columns (total 5 columns):\n",
            " #   Column                         Non-Null Count   Dtype  \n",
            "---  ------                         --------------   -----  \n",
            " 0   customer_city                  112650 non-null  object \n",
            " 1   customer_state                 112650 non-null  object \n",
            " 2   price                          112650 non-null  float64\n",
            " 3   order_status                   112650 non-null  object \n",
            " 4   product_category_name_english  112650 non-null  object \n",
            "dtypes: float64(1), object(4)\n",
            "memory usage: 5.2+ MB\n"
          ]
        }
      ]
    },
    {
      "cell_type": "markdown",
      "source": [
        "Jumlah setiap data sudah sama, sehingga tidak ada missing value. Data telah siap dilakukan Analisis"
      ],
      "metadata": {
        "id": "2m-j3bpTjcMm"
      }
    },
    {
      "cell_type": "markdown",
      "source": [
        "# Bagaimana Demografi Customer?"
      ],
      "metadata": {
        "id": "Sbfb6rd2dAEu"
      }
    },
    {
      "cell_type": "code",
      "source": [
        "jumlah_cust=final_df.groupby(['customer_state','customer_city'])['order_status'].count().reset_index()\n",
        "print(jumlah_cust)"
      ],
      "metadata": {
        "colab": {
          "base_uri": "https://localhost:8080/"
        },
        "id": "RUDG2h74KjDq",
        "outputId": "f921f276-f790-4fac-9c4a-b4f3a97c69bd"
      },
      "execution_count": 229,
      "outputs": [
        {
          "output_type": "stream",
          "name": "stdout",
          "text": [
            "     customer_state            customer_city  order_status\n",
            "0                AC                brasileia             3\n",
            "1                AC          cruzeiro do sul             3\n",
            "2                AC           epitaciolandia             1\n",
            "3                AC            manoel urbano             1\n",
            "4                AC               porto acre             1\n",
            "...             ...                      ...           ...\n",
            "4295             TO             silvanopolis             1\n",
            "4296             TO  sitio novo do tocantins             4\n",
            "4297             TO               taguatinga             3\n",
            "4298             TO           tocantinopolis             8\n",
            "4299             TO                  xambioa             3\n",
            "\n",
            "[4300 rows x 3 columns]\n"
          ]
        }
      ]
    },
    {
      "cell_type": "code",
      "source": [
        "jumlah=jumlah_cust.sort_values(by='order_status', ascending=False)\n",
        "print(jumlah)"
      ],
      "metadata": {
        "colab": {
          "base_uri": "https://localhost:8080/"
        },
        "id": "OAagkav-OkhQ",
        "outputId": "d981bb0f-d416-4ba0-a505-4a230ebe6193"
      },
      "execution_count": 230,
      "outputs": [
        {
          "output_type": "stream",
          "name": "stdout",
          "text": [
            "     customer_state   customer_city  order_status\n",
            "4166             SP       sao paulo         17808\n",
            "2782             RJ  rio de janeiro          7837\n",
            "1059             MG  belo horizonte          3144\n",
            "600              DF        brasilia          2392\n",
            "2402             PR        curitiba          1751\n",
            "...             ...             ...           ...\n",
            "1038             MG          arapua             1\n",
            "3404             SC          galvao             1\n",
            "3403             SC    frei rogerio             1\n",
            "1049             MG         baguari             1\n",
            "3259             RS    sao martinho             1\n",
            "\n",
            "[4300 rows x 3 columns]\n"
          ]
        }
      ]
    },
    {
      "cell_type": "code",
      "source": [
        "# Mencari 3 customer_state terbanyak\n",
        "top_3_states = jumlah_cust.groupby('customer_state')['order_status'].sum().nlargest(3).index\n",
        "\n",
        "# Membuat bar chart untuk setiap customer_state\n",
        "for state in top_3_states:\n",
        "    state_data = jumlah_cust[jumlah_cust['customer_state'] == state]\n",
        "    top_3_cities_in_state = state_data.nlargest(3, 'order_status')\n",
        "\n",
        "    plt.figure(figsize=(12, 6))\n",
        "    plt.bar(top_3_cities_in_state['customer_city'], top_3_cities_in_state['order_status'])\n",
        "    plt.title(f'3 Customer City Terbanyak di {state}')\n",
        "    plt.xlabel('Customer City')\n",
        "    plt.ylabel('Jumlah')\n",
        "    plt.xticks(rotation=45, ha='right')\n",
        "    plt.tight_layout()\n",
        "    plt.show()\n",
        "\n",
        "st.pyplot(fig)"
      ],
      "metadata": {
        "colab": {
          "base_uri": "https://localhost:8080/",
          "height": 1000
        },
        "id": "SnW7uNja8JM8",
        "outputId": "3e6b6956-1b0f-4509-9841-7550b8b3ecd7"
      },
      "execution_count": 231,
      "outputs": [
        {
          "output_type": "display_data",
          "data": {
            "text/plain": [
              "<Figure size 1200x600 with 1 Axes>"
            ],
            "image/png": "[encoded data removed]"
          },
          "metadata": {}
        },
        {
          "output_type": "display_data",
          "data": {
            "text/plain": [
              "<Figure size 1200x600 with 1 Axes>"
            ],
            "image/png": "[encoded data removed]"
          },
          "metadata": {}
        },
        {
          "output_type": "display_data",
          "data": {
            "text/plain": [
              "<Figure size 1200x600 with 1 Axes>"
            ],
            "image/png": "[encoded data removed]"
          },
          "metadata": {}
        },
        {
          "output_type": "execute_result",
          "data": {
            "text/plain": [
              "DeltaGenerator()"
            ]
          },
          "metadata": {},
          "execution_count": 231
        }
      ]
    },
    {
      "cell_type": "markdown",
      "source": [
        "# Produk Manakah yang Paling Laris Terjual?"
      ],
      "metadata": {
        "id": "8h5XB7I3lIAA"
      }
    },
    {
      "cell_type": "code",
      "source": [
        "jumlah_produk=final_df.groupby('product_category_name_english')['order_status'].count().reset_index()\n",
        "print(jumlah_produk)"
      ],
      "metadata": {
        "colab": {
          "base_uri": "https://localhost:8080/"
        },
        "id": "db3wqdOPlO8B",
        "outputId": "ada623fb-d500-4457-e488-e51b55d44ad9"
      },
      "execution_count": 232,
      "outputs": [
        {
          "output_type": "stream",
          "name": "stdout",
          "text": [
            "   product_category_name_english  order_status\n",
            "0                             NA          1627\n",
            "1     agro_industry_and_commerce           212\n",
            "2               air_conditioning           297\n",
            "3                            art           209\n",
            "4          arts_and_craftmanship            24\n",
            "..                           ...           ...\n",
            "67                    stationery          2517\n",
            "68        tablets_printing_image            83\n",
            "69                     telephony          4545\n",
            "70                          toys          4117\n",
            "71                 watches_gifts          5991\n",
            "\n",
            "[72 rows x 2 columns]\n"
          ]
        }
      ]
    },
    {
      "cell_type": "code",
      "source": [
        "jumlah_produk=jumlah_produk.sort_values(by='order_status', ascending=False)\n",
        "print(jumlah_produk)"
      ],
      "metadata": {
        "colab": {
          "base_uri": "https://localhost:8080/"
        },
        "id": "7gz6yzj7ldlF",
        "outputId": "9ba659f2-8e63-489d-c0c5-6a0158802008"
      },
      "execution_count": 233,
      "outputs": [
        {
          "output_type": "stream",
          "name": "stdout",
          "text": [
            "   product_category_name_english  order_status\n",
            "8                 bed_bath_table         11115\n",
            "44                 health_beauty          9670\n",
            "66                sports_leisure          8641\n",
            "40               furniture_decor          8334\n",
            "16         computers_accessories          7827\n",
            "..                           ...           ...\n",
            "4          arts_and_craftmanship            24\n",
            "12             cds_dvds_musicals            14\n",
            "53                    la_cuisine            14\n",
            "30     fashion_childrens_clothes             8\n",
            "62         security_and_services             2\n",
            "\n",
            "[72 rows x 2 columns]\n"
          ]
        }
      ]
    },
    {
      "cell_type": "code",
      "source": [
        "laku = jumlah_produk.head(5)\n",
        "rugi = jumlah_produk.tail(5)\n",
        "\n",
        "\n",
        "fig, axes = plt.subplots(1, 2, figsize=(12, 6))\n",
        "\n",
        "axes[0].bar(laku['product_category_name_english'], laku['order_status'], color='#72BCD4')\n",
        "axes[0].set_title('Produk Paling Laku')\n",
        "axes[0].set_xlabel('Produk')\n",
        "axes[0].set_ylabel('Jumlah')\n",
        "\n",
        "axes[1].bar(rugi['product_category_name_english'], rugi['order_status'], color='#D3D3D3')\n",
        "axes[1].set_title('Produk Paling Rugi')\n",
        "axes[1].set_xlabel('Produk')\n",
        "axes[1].set_ylabel('Jumlah')\n",
        "\n",
        "axes[0].tick_params(axis='x', rotation=45)\n",
        "axes[1].tick_params(axis='x', rotation=45)\n",
        "\n",
        "plt.tight_layout()\n",
        "plt.show()\n",
        "\n",
        "st.pyplot(fig)"
      ],
      "metadata": {
        "colab": {
          "base_uri": "https://localhost:8080/",
          "height": 624
        },
        "id": "UnRdwba2vYn4",
        "outputId": "b74222e2-9690-4c52-e78e-7348881c7306"
      },
      "execution_count": 234,
      "outputs": [
        {
          "output_type": "display_data",
          "data": {
            "text/plain": [
              "<Figure size 1200x600 with 2 Axes>"
            ],
            "image/png": "[encoded data removed]"
          },
          "metadata": {}
        },
        {
          "output_type": "execute_result",
          "data": {
            "text/plain": [
              "DeltaGenerator()"
            ]
          },
          "metadata": {},
          "execution_count": 234
        }
      ]
    }
  ]
}